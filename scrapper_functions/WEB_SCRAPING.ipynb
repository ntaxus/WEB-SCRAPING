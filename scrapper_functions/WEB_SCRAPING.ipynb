{
 "cells": [
  {
   "cell_type": "code",
   "execution_count": 1,
   "metadata": {},
   "outputs": [],
   "source": [
    "#pip install webdriver_manager\n",
    "from selenium import webdriver\n",
    "from selenium.webdriver.chrome.service import Service\n",
    "from webdriver_manager.chrome import ChromeDriverManager\n",
    "from selenium.common.exceptions import NoSuchElementException\n",
    "import pandas as pd\n",
    "import json\n",
    "\n",
    "\n",
    "def get_lista_especies():\n",
    "    '''\n",
    "    Devuelve una lista de los href de las especies nativas.\n",
    "    '''\n",
    "    \n",
    "    #URL donde se encuentra la lista de especies\n",
    "    url = \"https://cma.sarem.org.ar/es/listado-de-especies-tratadas?type_1=ficha_de_especie\"\n",
    "    \n",
    "    #VER ESTA PARTE CON ANTONIO\n",
    "    s=Service(ChromeDriverManager().install())\n",
    "    driver = webdriver.Chrome(service=s)\n",
    "    driver.get(url)\n",
    "    \n",
    "    #obtengo los elementos usando xpath\n",
    "    elems = driver.find_elements_by_xpath(\"//span[@class='nombrecientifico-listado']/a[@href]\")\n",
    "    \n",
    "    #guardo en una lista\n",
    "    a=[i.get_attribute(\"href\") for i in elems]\n",
    "    \n",
    "    #cierro la ventana\n",
    "    driver.close()\n",
    "    \n",
    "    #devuelvo una lista de href\n",
    "    return a\n"
   ]
  },
  {
   "cell_type": "code",
   "execution_count": 2,
   "metadata": {},
   "outputs": [
    {
     "name": "stderr",
     "output_type": "stream",
     "text": [
      "[WDM] - \n",
      "\n",
      "[WDM] - ====== WebDriver manager ======\n",
      "[WDM] - Current google-chrome version is 88.0.4324\n",
      "[WDM] - Get LATEST driver version for 88.0.4324\n",
      "[WDM] - Driver [/home/nicolas/.wdm/drivers/chromedriver/linux64/88.0.4324.96/chromedriver] found in cache\n",
      "<ipython-input-1-37b7457bfc8c>:24: DeprecationWarning: find_elements_by_* commands are deprecated. Please use find_elements() instead\n",
      "  elems = driver.find_elements_by_xpath(\"//span[@class='nombrecientifico-listado']/a[@href]\")\n"
     ]
    }
   ],
   "source": [
    "lista=get_lista_especies()"
   ]
  },
  {
   "cell_type": "code",
   "execution_count": 3,
   "metadata": {},
   "outputs": [
    {
     "data": {
      "text/plain": [
       "['https://cma.sarem.org.ar/es/especie-nativa/abrawayaomys-ruschii',\n",
       " 'https://cma.sarem.org.ar/es/especie-nativa/abrocoma-budini',\n",
       " 'https://cma.sarem.org.ar/es/especie-nativa/andalgalomys-roigi',\n",
       " 'https://cma.sarem.org.ar/es/especie-nativa/gyldenstolpia-fronto',\n",
       " 'https://cma.sarem.org.ar/es/especie-nativa/tremarctos-ornatus']"
      ]
     },
     "execution_count": 3,
     "metadata": {},
     "output_type": "execute_result"
    }
   ],
   "source": [
    "lista_ejemplo=lista[0:2]\n",
    "lista_ejemplo.append('https://cma.sarem.org.ar/es/especie-nativa/andalgalomys-roigi')\n",
    "lista_ejemplo.append('https://cma.sarem.org.ar/es/especie-nativa/gyldenstolpia-fronto')\n",
    "lista_ejemplo.append('https://cma.sarem.org.ar/es/especie-nativa/tremarctos-ornatus')\n",
    "lista_ejemplo"
   ]
  },
  {
   "cell_type": "code",
   "execution_count": 4,
   "metadata": {},
   "outputs": [],
   "source": [
    "def get_datos_especie(url):\n",
    "    \"\"\"\n",
    "    Devuelve un dictionario con en nombre de la especie, la categoría de conservación \n",
    "    y los datos georeferenciados\n",
    "    \"\"\"\n",
    "    \n",
    "    #URL donde se encuentra la lista de especies\n",
    "    #url = 'https://cma.sarem.org.ar/es/especie-nativa/abrawayaomys-ruschii'\n",
    "\n",
    "    s=Service(ChromeDriverManager().install())\n",
    "    driver = webdriver.Chrome(service=s)\n",
    "    driver.get(url)\n",
    "\n",
    "    #obtengo los elementos usando xpath\n",
    "    especie = driver.find_element_by_xpath('/html/body/div/div[1]/div/div[3]/div/div/div[2]/div/div/div/div/div/h1').text\n",
    "    categoria=driver.find_element_by_xpath('/html/body/div/div[1]/div/div[3]/div/div/div[2]/div/div/div/div/div/div[3]/a[2]').text\n",
    "    mapa=driver.find_element_by_xpath('/html/body/script[1]').get_attribute('innerHTML')\n",
    "\n",
    "    #devuelvo un distionario.\n",
    "    d={'species': especie,'categoria': categoria,'datos': mapa}\n",
    "    \n",
    "    #cierro\n",
    "    driver.close()\n",
    "    \n",
    "    return d "
   ]
  },
  {
   "cell_type": "code",
   "execution_count": 5,
   "metadata": {},
   "outputs": [],
   "source": [
    "def get_datos():\n",
    "    #l=get_lista_especies()\n",
    "    \n",
    "    final=[]\n",
    "    \n",
    "    for i in lista_ejemplo:\n",
    "        a=get_datos_especie(i)\n",
    "        \n",
    "        #si la cat es \"no aplicable\" o \"no\"\n",
    "        if a['categoria'] not in ['EX (Extinta)', 'NA (No Aplicable)','NE (No Evaluada)']:\n",
    "            final.append(a)\n",
    "        \n",
    "        #agregar un time lapse\n",
    "        \n",
    "    \n",
    "    with open('data.json', 'w') as outfile:\n",
    "        json.dump(final, outfile)\n"
   ]
  },
  {
   "cell_type": "code",
   "execution_count": 6,
   "metadata": {},
   "outputs": [
    {
     "name": "stderr",
     "output_type": "stream",
     "text": [
      "[WDM] - \n",
      "\n",
      "[WDM] - ====== WebDriver manager ======\n",
      "[WDM] - Current google-chrome version is 88.0.4324\n",
      "[WDM] - Get LATEST driver version for 88.0.4324\n",
      "[WDM] - Driver [/home/nicolas/.wdm/drivers/chromedriver/linux64/88.0.4324.96/chromedriver] found in cache\n",
      "<ipython-input-4-636757d81598>:15: DeprecationWarning: find_element_by_* commands are deprecated. Please use find_element() instead\n",
      "  especie = driver.find_element_by_xpath('/html/body/div/div[1]/div/div[3]/div/div/div[2]/div/div/div/div/div/h1').text\n",
      "<ipython-input-4-636757d81598>:16: DeprecationWarning: find_element_by_* commands are deprecated. Please use find_element() instead\n",
      "  categoria=driver.find_element_by_xpath('/html/body/div/div[1]/div/div[3]/div/div/div[2]/div/div/div/div/div/div[3]/a[2]').text\n",
      "<ipython-input-4-636757d81598>:17: DeprecationWarning: find_element_by_* commands are deprecated. Please use find_element() instead\n",
      "  mapa=driver.find_element_by_xpath('/html/body/script[1]').get_attribute('innerHTML')\n",
      "[WDM] - \n",
      "\n",
      "[WDM] - ====== WebDriver manager ======\n",
      "[WDM] - Current google-chrome version is 88.0.4324\n",
      "[WDM] - Get LATEST driver version for 88.0.4324\n",
      "[WDM] - Driver [/home/nicolas/.wdm/drivers/chromedriver/linux64/88.0.4324.96/chromedriver] found in cache\n",
      "[WDM] - \n",
      "\n",
      "[WDM] - ====== WebDriver manager ======\n",
      "[WDM] - Current google-chrome version is 88.0.4324\n",
      "[WDM] - Get LATEST driver version for 88.0.4324\n",
      "[WDM] - Driver [/home/nicolas/.wdm/drivers/chromedriver/linux64/88.0.4324.96/chromedriver] found in cache\n",
      "[WDM] - \n",
      "\n",
      "[WDM] - ====== WebDriver manager ======\n",
      "[WDM] - Current google-chrome version is 88.0.4324\n",
      "[WDM] - Get LATEST driver version for 88.0.4324\n",
      "[WDM] - Driver [/home/nicolas/.wdm/drivers/chromedriver/linux64/88.0.4324.96/chromedriver] found in cache\n",
      "[WDM] - \n",
      "\n",
      "[WDM] - ====== WebDriver manager ======\n",
      "[WDM] - Current google-chrome version is 88.0.4324\n",
      "[WDM] - Get LATEST driver version for 88.0.4324\n",
      "[WDM] - Driver [/home/nicolas/.wdm/drivers/chromedriver/linux64/88.0.4324.96/chromedriver] found in cache\n"
     ]
    }
   ],
   "source": [
    "get_datos()"
   ]
  }
 ],
 "metadata": {
  "interpreter": {
   "hash": "916dbcbb3f70747c44a77c7bcd40155683ae19c65e1c03b4aa3499c5328201f1"
  },
  "kernelspec": {
   "display_name": "Python 3",
   "language": "python",
   "name": "python3"
  },
  "language_info": {
   "codemirror_mode": {
    "name": "ipython",
    "version": 3
   },
   "file_extension": ".py",
   "mimetype": "text/x-python",
   "name": "python",
   "nbconvert_exporter": "python",
   "pygments_lexer": "ipython3",
   "version": "3.8.12"
  }
 },
 "nbformat": 4,
 "nbformat_minor": 2
}
